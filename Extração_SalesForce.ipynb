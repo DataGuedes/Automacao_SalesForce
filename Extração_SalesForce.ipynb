{
 "cells": [
  {
   "cell_type": "code",
   "execution_count": 286,
   "id": "437e2dfb",
   "metadata": {},
   "outputs": [],
   "source": [
    "from selenium.webdriver.common.keys import Keys\n",
    "from selenium.webdriver import ActionChains\n",
    "import selenium\n",
    "import pyautogui as bot\n",
    "from selenium import webdriver\n",
    "from datetime import datetime, date, timedelta\n",
    "import sys\n",
    "import __logs as log\n",
    "sys.path.append(\"/__logs.py\")"
   ]
  },
  {
   "cell_type": "code",
   "execution_count": 287,
   "id": "7721c1da",
   "metadata": {},
   "outputs": [],
   "source": [
    "options = webdriver.FirefoxOptions() \n",
    "#options.add_experimental_option(\"excludeSwitches\", [\"enable-logging\"])\n",
    "driver = webdriver.Firefox(options=options, executable_path=r'./geckodriver')\n",
    "driver.get('https://bancoagibank.lightning.force.com/lightning/r/Report/00O5A000008UhPOUA0/view')"
   ]
  },
  {
   "cell_type": "code",
   "execution_count": 289,
   "id": "f770d881",
   "metadata": {},
   "outputs": [],
   "source": [
    "driver.find_element_by_xpath('//*[@id=\"username\"]').send_keys(log.login)\n",
    "driver.find_element_by_xpath('//*[@id=\"password\"]').send_keys(log.password)\n",
    "driver.find_element_by_xpath('//*[@id=\"loginForm\"]/div[5]/div/button').click()"
   ]
  },
  {
   "cell_type": "code",
   "execution_count": 271,
   "id": "1638cd19",
   "metadata": {},
   "outputs": [
    {
     "name": "stdout",
     "output_type": "stream",
     "text": [
      "Aguardando carregamento da página\n",
      "Página carregada!\n"
     ]
    }
   ],
   "source": [
    "validacao = False\n",
    "print('Aguardando carregamento da página')\n",
    "while validacao == False:\n",
    "    loading = bot.locateOnScreen('validar.png', confidence=0.8)\n",
    "    if loading:\n",
    "        print('Página carregada!')\n",
    "        validacao = True"
   ]
  },
  {
   "cell_type": "code",
   "execution_count": 272,
   "id": "e34bceaf",
   "metadata": {},
   "outputs": [
    {
     "name": "stdout",
     "output_type": "stream",
     "text": [
      "Entrando na aba de download\n"
     ]
    }
   ],
   "source": [
    "bot.sleep(10)\n",
    "validacao = False\n",
    "while validacao == False:\n",
    "    editar = bot.locateOnScreen('editar.png', confidence=0.9)\n",
    "    if editar:\n",
    "        bot.click(editar)\n",
    "        bot.sleep(5)\n",
    "        exportar = bot.locateOnScreen('exportar.png', confidence=0.85)\n",
    "        if exportar:\n",
    "            bot.click(exportar)\n",
    "            print('Entrando na aba de download')\n",
    "            validacao = True\n",
    "bot.sleep(2)           \n",
    "validacao = False\n",
    "while validacao == False:\n",
    "    detalhe = bot.locateOnScreen('detalhe_apenas.png', confidence=0.85)\n",
    "    if detalhe:\n",
    "        bot.click(detalhe)\n",
    "        bot.press('tab')\n",
    "        bot.press('down', presses=2)\n",
    "        bot.press('tab', presses=3)\n",
    "        bot.press('enter')\n",
    "        validacao = True"
   ]
  },
  {
   "cell_type": "code",
   "execution_count": 273,
   "id": "1b64d04e",
   "metadata": {},
   "outputs": [],
   "source": [
    "bot.sleep(5)\n",
    "validacao = False\n",
    "while validacao == False:\n",
    "    exportar = bot.locateOnScreen('loading.png', confidence=0.9)\n",
    "    if exportar:\n",
    "            bot.click(exportar)\n",
    "            bot.sleep(0.25)\n",
    "            bot.write('https://bancoagibank.lightning.force.com/lightning/r/Report/00O8Z000006JZkGUAW/view')\n",
    "            bot.press('enter')\n",
    "            validacao = True\n"
   ]
  },
  {
   "cell_type": "code",
   "execution_count": 274,
   "id": "1d6b16e1",
   "metadata": {},
   "outputs": [
    {
     "name": "stdout",
     "output_type": "stream",
     "text": [
      "Aguardando carregamento da página\n",
      "Página carregada!\n"
     ]
    }
   ],
   "source": [
    "bot.sleep(7)\n",
    "validacao = False\n",
    "print('Aguardando carregamento da página')\n",
    "while validacao == False:\n",
    "    loading = bot.locateOnScreen('validar.png', confidence=0.8)\n",
    "    if loading:\n",
    "        print('Página carregada!')\n",
    "        validacao = True"
   ]
  },
  {
   "cell_type": "code",
   "execution_count": 275,
   "id": "e479de48",
   "metadata": {},
   "outputs": [],
   "source": [
    "bot.sleep(5)\n",
    "dt_init = date(2022,6,1)\n",
    "dt_init = dt_init.strftime(f'{\"%d/%m/\"}2022')\n",
    "today = date.today()\n",
    "yesterday = today - timedelta(1)\n",
    "yesterday = yesterday.strftime(f'{\"%d/%m/\"}2022')\n",
    "\n",
    "\n",
    "validacao = False\n",
    "while validacao == False:\n",
    "    validar_motivo = bot.locateAllOnScreen('validar.png', confidence=0.80)\n",
    "    if validar_motivo:\n",
    "        filtro = bot.locateOnScreen('filter.png', confidence=0.9)\n",
    "    if filtro:\n",
    "        bot.click(filtro)\n",
    "        validacao = True\n",
    "\n",
    "bot.sleep(4)       \n",
    "validacao = False\n",
    "while validacao == False:\n",
    "    dt_open = bot.locateOnScreen('data_abertura.png', confidence=0.85)\n",
    "    if dt_open:\n",
    "        bot.click(dt_open)\n",
    "        bot.press('tab', presses=3)\n",
    "        bot.write(dt_init)    \n",
    "        bot.press('tab', presses=2)\n",
    "        bot.sleep(1)\n",
    "        bot.write(yesterday)\n",
    "        bot.sleep(0.75)\n",
    "        bot.press('tab', presses=3)\n",
    "        bot.press('enter')\n",
    "        validacao = True\n",
    "            "
   ]
  },
  {
   "cell_type": "code",
   "execution_count": 276,
   "id": "f34a847c",
   "metadata": {},
   "outputs": [
    {
     "name": "stdout",
     "output_type": "stream",
     "text": [
      "Entrando na aba de download\n"
     ]
    }
   ],
   "source": [
    "bot.sleep(10)\n",
    "validacao = False\n",
    "while validacao == False:\n",
    "    editar = bot.locateOnScreen('editar.png', confidence=0.9)\n",
    "    if editar:\n",
    "        bot.click(editar)\n",
    "        bot.sleep(0.5)\n",
    "        exportar = bot.locateOnScreen('exportar.png', confidence=0.85)\n",
    "        if exportar:\n",
    "            bot.click(exportar)\n",
    "            print('Entrando na aba de download')\n",
    "            validacao = True\n",
    "            \n",
    "validacao = False\n",
    "while validacao == False:\n",
    "    detalhe = bot.locateOnScreen('detalhe_apenas.png', confidence=0.85)\n",
    "    if detalhe:\n",
    "        bot.click(detalhe)\n",
    "        bot.press('tab')\n",
    "        bot.press('down', presses=2)\n",
    "        bot.press('tab', presses=3)\n",
    "        bot.press('enter')\n",
    "        validacao = True"
   ]
  },
  {
   "cell_type": "code",
   "execution_count": 277,
   "id": "bb121344",
   "metadata": {},
   "outputs": [],
   "source": [
    "bot.sleep(7)\n",
    "validacao = False\n",
    "while validacao == False:\n",
    "    exportar = bot.locateOnScreen('loading.png', confidence=0.9)\n",
    "    if exportar:\n",
    "            bot.click(exportar)\n",
    "            bot.sleep(0.25)\n",
    "            bot.write('https://bancoagibank.lightning.force.com/lightning/r/Report/00O5A0000076XuiUAE/view')\n",
    "            bot.press('enter')\n",
    "            validacao = True"
   ]
  },
  {
   "cell_type": "code",
   "execution_count": 278,
   "id": "c45a2c22",
   "metadata": {},
   "outputs": [
    {
     "name": "stdout",
     "output_type": "stream",
     "text": [
      "Aguardando carregamento da página\n",
      "Página carregada!\n"
     ]
    }
   ],
   "source": [
    "bot.sleep(7)\n",
    "validacao = False\n",
    "print('Aguardando carregamento da página')\n",
    "while validacao == False:\n",
    "    loading = bot.locateOnScreen('validar.png', confidence=0.8)\n",
    "    if loading:\n",
    "        print('Página carregada!')\n",
    "        validacao = True\n",
    "            "
   ]
  },
  {
   "cell_type": "code",
   "execution_count": 279,
   "id": "6a0069b7",
   "metadata": {},
   "outputs": [],
   "source": [
    "bot.sleep(5)\n",
    "validacao = False\n",
    "while validacao == False:\n",
    "    filtro = bot.locateOnScreen('filter.png', confidence=0.9)\n",
    "    if filtro:\n",
    "        bot.click(filtro)\n",
    "        validacao = True\n",
    "\n",
    "bot.sleep(5)\n",
    "        \n",
    "validacao = False\n",
    "while validacao == False:\n",
    "    data_rechamada = bot.locateOnScreen('data_rechamda.PNG', confidence=0.75)\n",
    "    if data_rechamada:\n",
    "        bot.click(data_rechamada)\n",
    "        validacao = True\n",
    "bot.sleep(3)\n",
    "validacao = False\n",
    "while validacao == False:\n",
    "    personalizar = bot.locateOnScreen('personalizar.PNG', confidence=0.85)\n",
    "    if personalizar:\n",
    "        bot.click(personalizar)\n",
    "        bot.press('tab', presses=3)\n",
    "        bot.write(dt_init)\n",
    "        bot.press('tab', presses=2)\n",
    "        bot.write(yesterday)\n",
    "        bot.sleep(0.5)\n",
    "        bot.press('tab', presses=3)\n",
    "        bot.press('enter')\n",
    "        validacao = True"
   ]
  },
  {
   "cell_type": "code",
   "execution_count": 280,
   "id": "aa82ad3b",
   "metadata": {},
   "outputs": [
    {
     "name": "stdout",
     "output_type": "stream",
     "text": [
      "Entrando na aba de download\n"
     ]
    }
   ],
   "source": [
    "bot.sleep(3)\n",
    "validacao = False\n",
    "while validacao == False:\n",
    "    editar = bot.locateOnScreen('editar.png', confidence=0.9)\n",
    "    if editar:\n",
    "        bot.click(editar)\n",
    "        bot.sleep(0.5)\n",
    "        exportar = bot.locateOnScreen('exportar.png', confidence=0.85)\n",
    "        if exportar:\n",
    "            bot.click(exportar)\n",
    "            print('Entrando na aba de download')\n",
    "            validacao = True\n",
    "            \n",
    "validacao = False\n",
    "while validacao == False:\n",
    "    detalhe = bot.locateOnScreen('detalhe_apenas.png', confidence=0.85)\n",
    "    if detalhe:\n",
    "        bot.click(detalhe)\n",
    "        bot.press('tab')\n",
    "        bot.press('down', presses=2)\n",
    "        bot.press('tab', presses=3)\n",
    "        bot.press('enter')\n",
    "        validacao = True"
   ]
  },
  {
   "cell_type": "code",
   "execution_count": 290,
   "id": "1c957e6a",
   "metadata": {},
   "outputs": [
    {
     "name": "stdout",
     "output_type": "stream",
     "text": [
      "Aguardando carregamento da página\n",
      "Página carregada!\n"
     ]
    }
   ],
   "source": [
    "bot.sleep(7)\n",
    "validacao = False\n",
    "print('Aguardando carregamento da página')\n",
    "while validacao == False:\n",
    "    loading = bot.locateOnScreen('validar.png', confidence=0.8)\n",
    "    if loading:\n",
    "        print('Página carregada!')\n",
    "        validacao = True"
   ]
  }
 ],
 "metadata": {
  "kernelspec": {
   "display_name": "Python 3.9.12 ('Automacao')",
   "language": "python",
   "name": "python3"
  },
  "language_info": {
   "codemirror_mode": {
    "name": "ipython",
    "version": 3
   },
   "file_extension": ".py",
   "mimetype": "text/x-python",
   "name": "python",
   "nbconvert_exporter": "python",
   "pygments_lexer": "ipython3",
   "version": "3.9.12"
  },
  "vscode": {
   "interpreter": {
    "hash": "203bcfdacc51ab0b6bc39ea9d0636c39f98ef029477a21868b64659b739fbfe2"
   }
  }
 },
 "nbformat": 4,
 "nbformat_minor": 5
}
